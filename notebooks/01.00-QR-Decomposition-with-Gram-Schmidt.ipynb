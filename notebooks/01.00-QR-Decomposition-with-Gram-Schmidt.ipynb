{
 "cells": [
  {
   "cell_type": "markdown",
   "metadata": {},
   "source": [
    "# QR Decomposition with Gram-Schmidt"
   ]
  },
  {
   "cell_type": "markdown",
   "metadata": {},
   "source": [
    "This notebook shows decompositon of a matrix A to orthogonal matrix Q and upper triangular matrix R\n",
    "\n",
    "References:\n",
    "\n",
    "1. Stephen Boyd and Lieven Vandenberghe [Introduction to Applied Linear Algebra - Vectors, Matrices, and Least Squares](http://vmls-book.stanford.edu), Chapter 5.4 and 10.4.\n",
    "2. James W. Demmel Applied Numerical Linear Algebra, Chapter 3.2.2"
   ]
  },
  {
   "cell_type": "markdown",
   "metadata": {},
   "source": [
    "The implementation follows Algorithm 3.1 from [2], you can find Matlab implementation [here](http://it6-1605.narod.ru/#gramm_shmidt)"
   ]
  },
  {
   "cell_type": "code",
   "execution_count": 1,
   "metadata": {},
   "outputs": [],
   "source": [
    "import numpy as np"
   ]
  },
  {
   "cell_type": "code",
   "execution_count": 2,
   "metadata": {},
   "outputs": [
    {
     "data": {
      "text/plain": [
       "array([[-1., -1.,  1.],\n",
       "       [ 1.,  3.,  3.],\n",
       "       [-1., -1.,  5.],\n",
       "       [ 1.,  3.,  7.]])"
      ]
     },
     "execution_count": 2,
     "metadata": {},
     "output_type": "execute_result"
    }
   ],
   "source": [
    "A = np.array((-1, 1, -1, 1, -1, 3, -1, 3, 1, 3, 5, 7), dtype=float).reshape(3, 4).T\n",
    "A"
   ]
  },
  {
   "cell_type": "markdown",
   "metadata": {},
   "source": [
    "Allocate matrices Q and R"
   ]
  },
  {
   "cell_type": "code",
   "execution_count": 3,
   "metadata": {},
   "outputs": [],
   "source": [
    "Q = np.zeros(A.shape)\n",
    "R = np.zeros((A.shape[1], A.shape[1]))"
   ]
  },
  {
   "cell_type": "markdown",
   "metadata": {},
   "source": [
    "Perform computations"
   ]
  },
  {
   "cell_type": "code",
   "execution_count": 4,
   "metadata": {},
   "outputs": [],
   "source": [
    "for i in np.arange(A.shape[1]):\n",
    "    Q[:,[i]] = A[:, [i]]\n",
    "\n",
    "    # Substract component in q_j direction from a_i\n",
    "    for j in np.arange(i):\n",
    "        R[j, i] = Q[:, [j]].T.dot(Q[:, [i]])\n",
    "        Q[:, [i]] = Q[:, [i]] - R[j, i] * Q[:, [j]]\n",
    "\n",
    "    R[i, i] = np.sqrt(Q[:, [i]].T.dot(Q[:, [i]]))\n",
    "    Q[:, [i]] = Q[:, [i]] / R[i, i]"
   ]
  },
  {
   "cell_type": "code",
   "execution_count": 5,
   "metadata": {},
   "outputs": [
    {
     "data": {
      "text/plain": [
       "array([[-0.5,  0.5, -0.5],\n",
       "       [ 0.5,  0.5, -0.5],\n",
       "       [-0.5,  0.5,  0.5],\n",
       "       [ 0.5,  0.5,  0.5]])"
      ]
     },
     "execution_count": 5,
     "metadata": {},
     "output_type": "execute_result"
    }
   ],
   "source": [
    "# orthogonal matrix Q\n",
    "Q"
   ]
  },
  {
   "cell_type": "code",
   "execution_count": 6,
   "metadata": {
    "scrolled": true
   },
   "outputs": [
    {
     "data": {
      "text/plain": [
       "array([[2., 4., 2.],\n",
       "       [0., 2., 8.],\n",
       "       [0., 0., 4.]])"
      ]
     },
     "execution_count": 6,
     "metadata": {},
     "output_type": "execute_result"
    }
   ],
   "source": [
    "# upper diagonal matrix R\n",
    "R"
   ]
  },
  {
   "cell_type": "markdown",
   "metadata": {},
   "source": [
    "Check the that $${A = QR}$$"
   ]
  },
  {
   "cell_type": "code",
   "execution_count": 7,
   "metadata": {},
   "outputs": [
    {
     "data": {
      "text/plain": [
       "True"
      ]
     },
     "execution_count": 7,
     "metadata": {},
     "output_type": "execute_result"
    }
   ],
   "source": [
    "np.allclose(A, Q.dot(R))"
   ]
  },
  {
   "cell_type": "markdown",
   "metadata": {},
   "source": [
    "Check that Q is an orthogonal matrix $${Q^{T}Q = I}$$"
   ]
  },
  {
   "cell_type": "code",
   "execution_count": 8,
   "metadata": {},
   "outputs": [
    {
     "data": {
      "text/plain": [
       "True"
      ]
     },
     "execution_count": 8,
     "metadata": {},
     "output_type": "execute_result"
    }
   ],
   "source": [
    "np.allclose(Q.T.dot(Q), np.eye(Q.shape[1]))"
   ]
  }
 ],
 "metadata": {
  "kernelspec": {
   "display_name": "Python 3",
   "language": "python",
   "name": "python3"
  },
  "language_info": {
   "codemirror_mode": {
    "name": "ipython",
    "version": 3
   },
   "file_extension": ".py",
   "mimetype": "text/x-python",
   "name": "python",
   "nbconvert_exporter": "python",
   "pygments_lexer": "ipython3",
   "version": "3.6.5"
  }
 },
 "nbformat": 4,
 "nbformat_minor": 2
}
