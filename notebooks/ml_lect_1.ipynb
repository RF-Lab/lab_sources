from matplotlib import pyplot as plt
import numpy as np

N      = 10000
mu1    = np.array([ [-3], [1] ])
mu2    = np.array([ [1], [-3] ])
sigma1 = np.array([ [1, 0.9], [0.9, 1] ])
sigma2 = np.array([ [1, -0.7], [-0.7, 1] ])

s1     = np.linalg.cholesky( sigma1 )
s2     = np.linalg.cholesky( sigma2 )

print(np.shape(mu1))
mu1    = np.tile(mu1,(1,N))
print(np.shape(mu1))
x1     = s1 @ np.random.randn(2,N) + mu1

mu2    = np.tile(mu2,(1,N))
x2     = s2 @ np.random.randn(2,N) + mu2

plt.scatter( x1[0], x1[1]  )
plt.scatter( x2[0], x2[1]  )
plt.grid(True)
