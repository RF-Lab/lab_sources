{
  "nbformat": 4,
  "nbformat_minor": 0,
  "metadata": {
    "colab": {
      "name": "tf_classifier1.ipynb",
      "provenance": [],
      "collapsed_sections": [],
      "include_colab_link": true
    },
    "kernelspec": {
      "name": "python3",
      "display_name": "Python 3"
    },
    "accelerator": "GPU"
  },
  "cells": [
    {
      "cell_type": "markdown",
      "metadata": {
        "id": "view-in-github",
        "colab_type": "text"
      },
      "source": [
        "<a href=\"https://colab.research.google.com/github/RF-Lab/lab_sources/blob/master/notebooks/tf_classifier1.ipynb\" target=\"_parent\"><img src=\"https://colab.research.google.com/assets/colab-badge.svg\" alt=\"Open In Colab\"/></a>"
      ]
    },
    {
      "cell_type": "code",
      "metadata": {
        "id": "cR5-ZV6rFs3U",
        "colab_type": "code",
        "outputId": "08f28adc-292a-43b8-e7b4-12007f262a3a",
        "colab": {
          "base_uri": "https://localhost:8080/",
          "height": 34
        }
      },
      "source": [
        "# TensorFlow and tf.keras\n",
        "import tensorflow as tf\n",
        "from tensorflow import keras\n",
        "\n",
        "# Helper libraries\n",
        "import numpy as np\n",
        "import matplotlib.pyplot as plt\n",
        "\n",
        "print(tf.__version__)\n",
        "\n",
        "\n"
      ],
      "execution_count": 0,
      "outputs": [
        {
          "output_type": "stream",
          "text": [
            "1.15.0\n"
          ],
          "name": "stdout"
        }
      ]
    },
    {
      "cell_type": "code",
      "metadata": {
        "id": "qFjk0XtWGjOc",
        "colab_type": "code",
        "outputId": "49a45382-e88b-4f79-b131-805e652e6024",
        "colab": {
          "base_uri": "https://localhost:8080/",
          "height": 51
        }
      },
      "source": [
        "N         = 20000\n",
        "mu1       = np.array([ [-3], [1] ])\n",
        "mu2       = np.array([ [1], [-4] ])\n",
        "sigma1    = np.array([ [1, 0.6], [0.6, 1] ])\n",
        "sigma2    = np.array([ [1, -0.7], [-0.7, 1] ])\n",
        "invSigma1 = np.linalg.inv(sigma1) \n",
        "invSigma2 = np.linalg.inv(sigma2) \n",
        "detSigma1 = np.log(np.linalg.det(sigma1))\n",
        "detSigma2 = np.log(np.linalg.det(sigma2))\n",
        "\n",
        "s1     = np.linalg.cholesky( sigma1 )\n",
        "s2     = np.linalg.cholesky( sigma2 )\n",
        "\n",
        "\n",
        "#print(np.shape(mu1))\n",
        "vmu1         = np.tile(mu1,(1,N))\n",
        "#print(np.shape(mu1))\n",
        "tx1           = s1 @ np.random.randn(2,N) + vmu1\n",
        "\n",
        "vmu2         = np.tile(mu2,(1,N))\n",
        "tx2           = s2 @ np.random.randn(2,N) + vmu2\n",
        "\n",
        "train_data   = np.column_stack((tx1,tx2)).transpose()\n",
        "train_labels = np.column_stack((np.zeros((1,N)),np.ones((1,N)))).transpose()\n",
        "print(np.shape(train_data))\n",
        "print(np.shape(train_labels))\n"
      ],
      "execution_count": 0,
      "outputs": [
        {
          "output_type": "stream",
          "text": [
            "(40000, 2)\n",
            "(40000, 1)\n"
          ],
          "name": "stdout"
        }
      ]
    },
    {
      "cell_type": "code",
      "metadata": {
        "id": "GLX4h5BvM9Se",
        "colab_type": "code",
        "outputId": "0b83f408-05b1-4e56-a38f-2d66d19c74f2",
        "colab": {
          "base_uri": "https://localhost:8080/",
          "height": 221
        }
      },
      "source": [
        "model = keras.Sequential([\n",
        "    keras.layers.Dense(25, activation='linear'),\n",
        "    keras.layers.Dense(100, activation='sigmoid'),\n",
        "    keras.layers.Dense(15, activation='relu'),\n",
        "    keras.layers.Dense(2, activation='softmax')\n",
        "])\n",
        "\n",
        "model.compile(optimizer='adam',\n",
        "              loss='sparse_categorical_crossentropy',\n",
        "              metrics=['accuracy'])\n",
        "\n",
        "model.fit(train_data, train_labels, epochs=5)"
      ],
      "execution_count": 0,
      "outputs": [
        {
          "output_type": "stream",
          "text": [
            "Train on 40000 samples\n",
            "Epoch 1/5\n",
            "40000/40000 [==============================] - 4s 102us/sample - loss: 0.0109 - acc: 0.9976\n",
            "Epoch 2/5\n",
            "40000/40000 [==============================] - 4s 100us/sample - loss: 0.0018 - acc: 0.9995\n",
            "Epoch 3/5\n",
            "40000/40000 [==============================] - 4s 97us/sample - loss: 0.0020 - acc: 0.9994\n",
            "Epoch 4/5\n",
            "40000/40000 [==============================] - 4s 100us/sample - loss: 0.0022 - acc: 0.9995\n",
            "Epoch 5/5\n",
            "40000/40000 [==============================] - 4s 100us/sample - loss: 0.0020 - acc: 0.9995\n"
          ],
          "name": "stdout"
        },
        {
          "output_type": "execute_result",
          "data": {
            "text/plain": [
              "<tensorflow.python.keras.callbacks.History at 0x7f1057078dd8>"
            ]
          },
          "metadata": {
            "tags": []
          },
          "execution_count": 55
        }
      ]
    },
    {
      "cell_type": "code",
      "metadata": {
        "id": "CUYL8ddsR_Y5",
        "colab_type": "code",
        "outputId": "5158b846-c602-47e3-cc0d-c84baae1ecf3",
        "colab": {
          "base_uri": "https://localhost:8080/",
          "height": 102
        }
      },
      "source": [
        "N         = 20000\n",
        "\n",
        "\n",
        "#print(np.shape(mu1))\n",
        "vmu1         = np.tile(mu1,(1,N))\n",
        "#print(np.shape(mu1))\n",
        "x1           = s1 @ np.random.randn(2,N) + vmu1\n",
        "\n",
        "vmu2         = np.tile(mu2,(1,N))\n",
        "x2           = s2 @ np.random.randn(2,N) + vmu2\n",
        "\n",
        "test_data   = np.column_stack((x1,x2)).transpose()\n",
        "test_labels = np.column_stack((np.zeros((1,N)),np.ones((1,N)))).transpose()\n",
        "print(np.shape(test_data))\n",
        "print(np.shape(test_labels))\n",
        "\n",
        "test_loss, test_acc = model.evaluate(test_data,  test_labels, verbose=2)\n",
        "print('\\nTest accuracy:', test_acc)"
      ],
      "execution_count": 0,
      "outputs": [
        {
          "output_type": "stream",
          "text": [
            "(40000, 2)\n",
            "(40000, 1)\n",
            "40000/40000 - 2s - loss: 0.0018 - acc: 0.9995\n",
            "\n",
            "Test accuracy: 0.99955\n"
          ],
          "name": "stdout"
        }
      ]
    },
    {
      "cell_type": "code",
      "metadata": {
        "id": "IAux3DgTWCLA",
        "colab_type": "code",
        "outputId": "38734264-6361-45a3-d0f1-3b58c3459eb8",
        "colab": {
          "base_uri": "https://localhost:8080/",
          "height": 395
        }
      },
      "source": [
        "def plot_boundaries(model):\n",
        "  G       = 200\n",
        "  x       = np.linspace(-10, 10, G)\n",
        "  y       = np.linspace(-10, 10, G)\n",
        "  xv, yv  = np.meshgrid(x, y)\n",
        "  plotData= np.column_stack((xv.flatten(),yv.flatten()))\n",
        "  predictions = model.predict(plotData)\n",
        "  F       = predictions[:,0]>predictions[:,1]      \n",
        "  print(np.shape(F))\n",
        "  F       = F.reshape(G,G,order='C').copy()\n",
        "  plt.contourf( xv, yv, F, colors=['red','black','blue','gray'], alpha=0.2 )\n",
        "\n",
        "plt.figure(figsize=[10,6])\n",
        "\n",
        "plot_boundaries(model)\n",
        "\n",
        "plt.scatter( x1[0], x1[1], s=1, alpha=0.75  )\n",
        "plt.scatter( x2[0], x2[1], s=1, alpha=0.75 )\n",
        "\n",
        "plt.scatter( tx1[0], tx1[1], s=15, alpha=1  )\n",
        "plt.scatter( tx2[0], tx2[1], s=25, alpha=1 )\n",
        "\n",
        "plt.grid(True)"
      ],
      "execution_count": 0,
      "outputs": [
        {
          "output_type": "stream",
          "text": [
            "(40000,)\n"
          ],
          "name": "stdout"
        },
        {
          "output_type": "display_data",
          "data": {
            "image/png": "[encoded data removed]",
            "text/plain": [
              "<Figure size 720x432 with 1 Axes>"
            ]
          },
          "metadata": {
            "tags": []
          }
        }
      ]
    }
  ]
}