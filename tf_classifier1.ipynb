{
  "nbformat": 4,
  "nbformat_minor": 0,
  "metadata": {
    "colab": {
      "name": "tf_classifier1.ipynb",
      "provenance": [],
      "collapsed_sections": [],
      "include_colab_link": true
    },
    "kernelspec": {
      "name": "python3",
      "display_name": "Python 3"
    }
  },
  "cells": [
    {
      "cell_type": "markdown",
      "metadata": {
        "id": "view-in-github",
        "colab_type": "text"
      },
      "source": [
        "<a href=\"https://colab.research.google.com/github/RF-Lab/lab_sources/blob/master/tf_classifier1.ipynb\" target=\"_parent\"><img src=\"https://colab.research.google.com/assets/colab-badge.svg\" alt=\"Open In Colab\"/></a>"
      ]
    },
    {
      "cell_type": "code",
      "metadata": {
        "id": "cR5-ZV6rFs3U",
        "colab_type": "code",
        "colab": {
          "base_uri": "https://localhost:8080/",
          "height": 34
        },
        "outputId": "f7ed0c70-1118-424d-8db1-c24aa853200c"
      },
      "source": [
        "# TensorFlow and tf.keras\n",
        "import tensorflow as tf\n",
        "from tensorflow import keras\n",
        "\n",
        "# Helper libraries\n",
        "import numpy as np\n",
        "import matplotlib.pyplot as plt\n",
        "\n",
        "print(tf.__version__)"
      ],
      "execution_count": 1,
      "outputs": [
        {
          "output_type": "stream",
          "text": [
            "1.15.0-rc3\n"
          ],
          "name": "stdout"
        }
      ]
    },
    {
      "cell_type": "code",
      "metadata": {
        "id": "qFjk0XtWGjOc",
        "colab_type": "code",
        "colab": {}
      },
      "source": [
        "N         = 20000\n",
        "mu1       = np.array([ [-4], [1] ])\n",
        "mu2       = np.array([ [1], [-4] ])\n",
        "sigma1    = np.array([ [1, 0.4], [0.4, 1] ])\n",
        "sigma2    = np.array([ [1, -0.6], [-0.6, 1] ])\n",
        "invSigma1 = np.linalg.inv(sigma1) \n",
        "invSigma2 = np.linalg.inv(sigma2) \n",
        "detSigma1 = np.log(np.linalg.det(sigma1))\n",
        "detSigma2 = np.log(np.linalg.det(sigma2))\n",
        "\n",
        "s1     = np.linalg.cholesky( sigma1 )\n",
        "s2     = np.linalg.cholesky( sigma2 )\n",
        "\n",
        "\n",
        "#print(np.shape(mu1))\n",
        "vmu1         = np.tile(mu1,(1,N))\n",
        "#print(np.shape(mu1))\n",
        "x1           = s1 @ np.random.randn(2,N) + vmu1\n",
        "\n",
        "vmu2         = np.tile(mu2,(1,N))\n",
        "x2           = s2 @ np.random.randn(2,N) + vmu2\n",
        "\n",
        "train_data   = np.column_stack((x1,x2))\n",
        "train_labels = np.column_stack((np.zeros((1,N)),np.ones((1,N))))"
      ],
      "execution_count": 0,
      "outputs": []
    }
  ]
}