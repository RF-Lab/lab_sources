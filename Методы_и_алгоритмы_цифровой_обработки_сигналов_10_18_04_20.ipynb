{
  "nbformat": 4,
  "nbformat_minor": 0,
  "metadata": {
    "colab": {
      "name": "Методы и алгоритмы цифровой обработки сигналов_10_18_04_20.ipynb",
      "provenance": [],
      "collapsed_sections": [],
      "authorship_tag": "ABX9TyMcfCLl5FCa2gkRCHEPIu0X",
      "include_colab_link": true
    },
    "kernelspec": {
      "name": "python3",
      "display_name": "Python 3"
    }
  },
  "cells": [
    {
      "cell_type": "markdown",
      "metadata": {
        "id": "view-in-github",
        "colab_type": "text"
      },
      "source": [
        "<a href=\"https://colab.research.google.com/github/RF-Lab/lab_sources/blob/master/%D0%9C%D0%B5%D1%82%D0%BE%D0%B4%D1%8B_%D0%B8_%D0%B0%D0%BB%D0%B3%D0%BE%D1%80%D0%B8%D1%82%D0%BC%D1%8B_%D1%86%D0%B8%D1%84%D1%80%D0%BE%D0%B2%D0%BE%D0%B9_%D0%BE%D0%B1%D1%80%D0%B0%D0%B1%D0%BE%D1%82%D0%BA%D0%B8_%D1%81%D0%B8%D0%B3%D0%BD%D0%B0%D0%BB%D0%BE%D0%B2_10_18_04_20.ipynb\" target=\"_parent\"><img src=\"https://colab.research.google.com/assets/colab-badge.svg\" alt=\"Open In Colab\"/></a>"
      ]
    },
    {
      "cell_type": "markdown",
      "metadata": {
        "id": "Q-W-mZDtTnJL",
        "colab_type": "text"
      },
      "source": [
        "# 13:10-14:40 БИСО-1,2-16 Метод наименьших квадратов. Остаточная ошибка.\n",
        "\n",
        "**Лекция + Практическое занятие по дисциплине \"Методы и алгоритмы цифровой обработки сигналов\"**\n",
        "\n",
        "*Кафедра КБ-3 \"Управление и моделирование систем\" Института Комплексной Безопасности и Специального Приборостроения, МИРЭА, 2020г.*\n",
        "\n",
        "**Дата проведения занятия:** 18.04.2020.\n",
        "\n",
        "**Время:** 13:10-14:40. \n",
        "\n",
        "**Место/Форма проведения занятия:** Дистанционное обучение/Конференция Skype. Ссылка на видео-конференцию будет предоставлена непосредственно перед занятием по почте.\n",
        "\n",
        "**Постоянная ссылка:** https://colab.research.google.com/drive/160GFQucFiMR-egmaLBQOlww3RH9Z0uOZ\n",
        "\n",
        "**Цель:** Анализ остаточной ошибки при оптимальной фильтрации. Разбор примеров решения задач.\n",
        "\n",
        "**Материал прошлых лекций**:  Метод МНК позволяет решить переопределенную задачу вида:\n",
        "\n",
        "$V\\vec{c}=\\vec{x}$\n",
        "\n",
        "Путем минимизации критерия:\n",
        "\n",
        "$Q=\\left(V\\vec{c}-\\vec{x}\\right)^T\\left(V\\vec{c}-\\vec{x}\\right)$\n",
        "\n",
        "Такое решение можно представить в виде:\n",
        "\n",
        "$\\vec{c}=\\left(V^TV\\right)^{-1}V^Tx$\n",
        "\n",
        "Решение является оптимальным в том смысле, что не существует другого набора коэффициентов $\\vec{c}$, который обеспечивал бы меньшее значение критерия $Q$.\n",
        "\n",
        "**Остаточная ошибка оптимального линейного фильтра** \n",
        "\n",
        "Матрица $V$ составлена из вектор-столбцов (регрессоров) - см. предыдущую лекцию\n",
        "\n",
        "$\n",
        "V=\\begin{pmatrix}\n",
        "a_{11} & a_{12} & \\ldots & a_{1K}\\\\\n",
        "a_{21} & a_{22} & \\ldots & a_{2K}\\\\\n",
        "\\vdots & \\vdots & \\ldots & \\vdots\\\\\n",
        "a_{N1} & a_{N2} & \\ldots & a_{NK}\\\\\n",
        "\\end{pmatrix}=\n",
        "\\begin{pmatrix}\n",
        "\\vec{a}_1 & \\vec{a}_2 & \\ldots \\vec{a}_K \\\\\n",
        "\\end{pmatrix}\n",
        "$\n",
        "\n",
        "Здесь $\\vec{a}_k$ - регрессор (другое название - терм) - вектор столбец.\n",
        "\n",
        "Введем обозначение \n",
        "\n",
        "$\n",
        "R = V^TV\n",
        "$\n",
        "\n",
        "$R$ - это квадратная (в отличие от $V$) матрица размером $K\\times K$. Каждый элемент матрицы R можно представить в виде скалярного произведения столбцов матрицы $V$:\n",
        "\n",
        "$r_{k,m}=\\sum\\limits_{n=1}^N a_{k,n} a_{m,n}$\n",
        "\n",
        "Легко заметить, что выражение для $r_{k,m}$ является оценкой корреляции между столбцами $k$ и $m$ матрицы $V$. Если предположить, что размерность регрессоров $N$ стремится к бесконечности, то оценка коррелиции будет стремиться к истинному значению корреляции между случайными процессами выступающими в качестве регрессоров. Будем называть матрицу $R$ **корреляционной матрицей**. \n",
        "\n",
        "Элементы корреляционной матрицы обладают следующими свойствами (*приведите доказательнство*):\n",
        "\n",
        "* $r_{k,m}=r_{m,k}$ - для действительнозначных регрессоров.\n",
        "* $r_{k,k}\\ge 0$\n",
        "\n",
        "Также можно доказать, что корреляционная матрица является симметричной неотрицательно определенной матрицей. \n",
        "Т.е. $\\forall\\vec{y}$ билинейная форма вида неотрицательна:\n",
        "\n",
        "$\\vec{y}^TR\\vec{y}\\ge 0$\n",
        "\n",
        "Это свойство позволяет сократить объем вычислений при поиске $R^{-1}$ (можно использовать разложение Холесского, см.numpy.linalg.cholesky(a)).\n",
        "\n",
        "Введем обозначение\n",
        "\n",
        "$\\vec{\\rho}=V^Tx$\n",
        "\n",
        "Каждый элемент вектора $\\vec{\\rho}$ можно представить в виде:\n",
        "\n",
        "$\\rho_k=\\sum\\limits_{n=1}^Na_{n,k}x_n$\n",
        "\n",
        "Т.е. $\\rho_k$ - определяет оценку корреляции между $k$-ым вектором-регрессором $\\vec{a}_k$ и вектором требуемого выхода $\\vec{x}$.\n",
        "\n",
        "В таких обозначениях решение переопределенной системы линейных уравнений методом наименьших квадратов можно представить в виде:\n",
        "\n",
        "\\begin{equation}\n",
        "\\vec{c}=\\left(V^TV\\right)^{-1}V^Tx=R^{-1}\\vec{\\rho}\\tag{1}\n",
        "\\end{equation}\n",
        "\n",
        "Уравнение $(\\ref{1})$ в форме:\n",
        "\\begin{equation}\n",
        "R\\vec{c}=\\vec{\\rho}\\tag{2}\n",
        "\\end{equation}\n",
        "называется *уравнением Винера*.\n",
        "\n",
        "Рассмотрим критерий оптимизации - сумму квадратов отклонений:\n",
        "\n",
        "$\n",
        "Q=\\left(V\\vec{c}-\\vec{x}\\right)^T\\left(V\\vec{c}-\\vec{x}\\right)=\n",
        "(\\vec{c}^TV^T-\\vec{x}^T)\\left(V\\vec{c}-\\vec{x}\\right)=\\\\\n",
        "\\vec{c}^TV^TV\\vec{c}-\\vec{c}^TV^T\\vec{x}-\\vec{x}^TV\\vec{c}+\\vec{x}^T\\vec{x}\n",
        "$\n",
        "\n",
        "Учитывая, что для вычислений в действительных числах $\\vec{c}^TV^T\\vec{x}=\\vec{x}^TV\\vec{c}$ (*докажите*):\n",
        "\n",
        "\\begin{equation}\n",
        "Q(\\vec{c})=\\vec{c}^TV^TV\\vec{c}-2\\vec{c}^TV^T\\vec{x}+\\vec{x}^T\\vec{x}=\n",
        "\\vec{x}^T\\vec{x}-2\\vec{c}^T\\vec{\\rho}+\\vec{c}^TR\\vec{c}\\tag{3}\n",
        "\\end{equation}\n",
        "\n",
        "Подставим уравнение Винера $R\\vec{c}=\\vec{\\rho}$ в выражение $(\\ref{3})$:\n",
        "\n",
        "\\begin{equation}\n",
        "Q_{opt}=\\vec{x}^T\\vec{x}-2\\vec{c}^T\\vec{\\rho}+\\vec{c}^T\\vec{\\rho}=\\\\\n",
        "\\vec{x}^T\\vec{x}-\\vec{c}^T\\vec{\\rho}=\\\\\n",
        "\\vec{x}^T\\vec{x}-\\vec{c}^TR\\vec{c}\\tag{3}\n",
        "\\end{equation}\n",
        "\n",
        "* Остаточная ошибка оптимального фильтра $Q_{opt}$ - это квадрат модуля кратчайшего расстояния от линейной оболочки, образованной столбцами (регрессорами) матрицы $V$ до точки $\\vec{x}$.\n",
        "\n",
        "* Остаточную ошибку оптимального фильтра $Q_{opt}$ нельзя уменьшить в рамках заданного набора регрессоров и вектора $\\vec{x}$.\n",
        "\n",
        "* Выражение $\\vec{c}^TR\\vec{c}\\ge 0$, поэтому значение ошибки лежит в диапазоне $0\\ldots \\vec{x}^T\\vec{x}$.\n",
        "\n",
        "Расчитаем остаточную ошибку для задачи 1 из предыдущей лекции:\n"
      ]
    },
    {
      "cell_type": "code",
      "metadata": {
        "id": "Dtj6-9E2TNlM",
        "colab_type": "code",
        "colab": {
          "base_uri": "https://localhost:8080/",
          "height": 51
        },
        "outputId": "e47ad790-cc89-4615-dc8a-006683c7e258"
      },
      "source": [
        "import numpy as np\n",
        "import matplotlib.pyplot as plt\n",
        "\n",
        "N     = 10000\n",
        "alpha = 2\n",
        "beta  = -3\n",
        "x     = np.array([np.cos( np.pi/N*4*np.arange(0.,N) )+np.cos( np.pi/N*20*np.arange(0.,N) )+np.cos( np.pi/N*30*np.arange(0.,N) )]).transpose()\n",
        "eta   = 0.9 * np.random.randn( N,1 )\n",
        "xi    = 2.1 * np.random.randn( N,1 )\n",
        "a     = alpha*x + eta\n",
        "b     = beta*x + xi\n",
        "\n",
        "V     = np.hstack((a,b))\n",
        "R     = V.transpose()@V\n",
        "rho   = V.transpose()@x\n",
        "c     = np.linalg.inv(R)@rho\n",
        "print('c={0}'.format(c))\n",
        "\n",
        "sol_x = V@c"
      ],
      "execution_count": 33,
      "outputs": [
        {
          "output_type": "stream",
          "text": [
            "c=[[ 0.32158483]\n",
            " [-0.09020791]]\n"
          ],
          "name": "stdout"
        }
      ]
    },
    {
      "cell_type": "markdown",
      "metadata": {
        "id": "JG1YcCFg_JiK",
        "colab_type": "text"
      },
      "source": [
        "Сначала раcсчитаем ошибку напрямую $(\\hat{\\vec{x}}-\\vec{x})^T(\\hat{\\vec{x}}-\\vec{x})=\\sum\\limits_{n=1}^N(\\hat{x}_n-x_n)^2$"
      ]
    },
    {
      "cell_type": "code",
      "metadata": {
        "id": "FUFYavq8_rDr",
        "colab_type": "code",
        "colab": {
          "base_uri": "https://localhost:8080/",
          "height": 51
        },
        "outputId": "bf96e199-cc06-4de4-80b2-b32be14921bd"
      },
      "source": [
        "Q = (sol_x-x).transpose()@(sol_x-x)\n",
        "print( 'Q={0}\\n'.format(Q) )"
      ],
      "execution_count": 6,
      "outputs": [
        {
          "output_type": "stream",
          "text": [
            "Q=[[1345.85331338]]\n",
            "\n"
          ],
          "name": "stdout"
        }
      ]
    },
    {
      "cell_type": "markdown",
      "metadata": {
        "id": "fS6LDEIKAXUL",
        "colab_type": "text"
      },
      "source": [
        "Теперь будем использовать формулу $Q_{opt}=\\vec{x}^T\\vec{x}-\\vec{c}^TR\\vec{c}$"
      ]
    },
    {
      "cell_type": "code",
      "metadata": {
        "id": "s1E6pCQpz0Ua",
        "colab_type": "code",
        "colab": {
          "base_uri": "https://localhost:8080/",
          "height": 51
        },
        "outputId": "ee1265ab-3614-4de2-edbd-9593834c14a7"
      },
      "source": [
        "Q = x.transpose()@x - c.transpose()@R@c\n",
        "print( 'Q={0}\\n'.format(Q) )"
      ],
      "execution_count": 7,
      "outputs": [
        {
          "output_type": "stream",
          "text": [
            "Q=[[1345.85331338]]\n",
            "\n"
          ],
          "name": "stdout"
        }
      ]
    },
    {
      "cell_type": "markdown",
      "metadata": {
        "id": "b9s7se4f0-RK",
        "colab_type": "text"
      },
      "source": [
        "Максимальная ошибка для данного примера:"
      ]
    },
    {
      "cell_type": "code",
      "metadata": {
        "id": "76r0bHEJ1C6V",
        "colab_type": "code",
        "colab": {
          "base_uri": "https://localhost:8080/",
          "height": 51
        },
        "outputId": "3e317f0d-a98c-4d82-f556-8a9155594a86"
      },
      "source": [
        "Qmax = x.transpose()@x\n",
        "print( 'Qmax={0}\\n'.format(Qmax) )"
      ],
      "execution_count": 8,
      "outputs": [
        {
          "output_type": "stream",
          "text": [
            "Qmax=[[15000.]]\n",
            "\n"
          ],
          "name": "stdout"
        }
      ]
    },
    {
      "cell_type": "markdown",
      "metadata": {
        "id": "7mDHW7DQ9yTz",
        "colab_type": "text"
      },
      "source": [
        "Разделив сумму квадратов ошибок на максимальное теоретическое значение суммы квадратов отклонений, получим относительную ошибку:"
      ]
    },
    {
      "cell_type": "code",
      "metadata": {
        "id": "97m15oUW-BVS",
        "colab_type": "code",
        "colab": {
          "base_uri": "https://localhost:8080/",
          "height": 34
        },
        "outputId": "6767f050-9de2-4d10-a558-4e8ae11c2cd2"
      },
      "source": [
        "print('Относительная ошибка {0}'.format(Q/Qmax))"
      ],
      "execution_count": 14,
      "outputs": [
        {
          "output_type": "stream",
          "text": [
            "Относительная ошибка [[0.08972355]]\n"
          ],
          "name": "stdout"
        }
      ]
    },
    {
      "cell_type": "markdown",
      "metadata": {
        "id": "9vocqlYE-Y1F",
        "colab_type": "text"
      },
      "source": [
        "В цифровой обработке традиционно используются логарифмические величины для относительной ошибки:"
      ]
    },
    {
      "cell_type": "code",
      "metadata": {
        "id": "Lij5H_Jo-kys",
        "colab_type": "code",
        "colab": {
          "base_uri": "https://localhost:8080/",
          "height": 34
        },
        "outputId": "8f55296a-1d04-4623-a731-e27236ed73cd"
      },
      "source": [
        "nmseDb = 10*np.log10(Q/Qmax)\n",
        "print('Относительная ошибка {0:5.2f}dB'.format(nmseDb[0][0]))"
      ],
      "execution_count": 23,
      "outputs": [
        {
          "output_type": "stream",
          "text": [
            "Относительная ошибка -10.47dB\n"
          ],
          "name": "stdout"
        }
      ]
    },
    {
      "cell_type": "markdown",
      "metadata": {
        "id": "dAeiY8ObAaaO",
        "colab_type": "text"
      },
      "source": [
        "Сравним с относительной ошбкой во входных векторах $\\vec{a}$ и $\\vec{b}$:"
      ]
    },
    {
      "cell_type": "code",
      "metadata": {
        "id": "T4QOibeMAk_y",
        "colab_type": "code",
        "colab": {
          "base_uri": "https://localhost:8080/",
          "height": 34
        },
        "outputId": "27cc2ccf-7a18-4258-af1a-b9bb1102a1f0"
      },
      "source": [
        "nmse_a  = (a-x*alpha).transpose()@(a-x*alpha)\n",
        "nmse_b  = (b-x*beta).transpose()@(b-x*beta)\n",
        "rms_x   = x.transpose()@x\n",
        "print( 'Относительные ошибки входных данных a={:5.2f}dB b={:5.2f}dB'.format( nmse_a[0][0]/rms_x[0][0]/alpha/alpha,nmse_b[0][0]/rms_x[0][0]/beta/beta ) )"
      ],
      "execution_count": 34,
      "outputs": [
        {
          "output_type": "stream",
          "text": [
            "Относительные ошибки входных данных a= 0.14dB b= 0.33dB\n"
          ],
          "name": "stdout"
        }
      ]
    },
    {
      "cell_type": "markdown",
      "metadata": {
        "id": "FcScMLxDDDcM",
        "colab_type": "text"
      },
      "source": [
        "Таким образом, относительная ошибка стала меньше на 10дБ, т.е. примерно в 10 раз!"
      ]
    }
  ]
}