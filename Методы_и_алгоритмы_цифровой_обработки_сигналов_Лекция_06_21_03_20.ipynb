{
  "nbformat": 4,
  "nbformat_minor": 0,
  "metadata": {
    "colab": {
      "name": "Методы и алгоритмы цифровой обработки сигналов_Лекция_06_21_03_20.ipynb",
      "provenance": [],
      "collapsed_sections": [],
      "authorship_tag": "ABX9TyMj2ikfMv/ommmy2MzaKRFK",
      "include_colab_link": true
    },
    "kernelspec": {
      "name": "python3",
      "display_name": "Python 3"
    }
  },
  "cells": [
    {
      "cell_type": "markdown",
      "metadata": {
        "id": "view-in-github",
        "colab_type": "text"
      },
      "source": [
        "<a href=\"https://colab.research.google.com/github/RF-Lab/lab_sources/blob/master/%D0%9C%D0%B5%D1%82%D0%BE%D0%B4%D1%8B_%D0%B8_%D0%B0%D0%BB%D0%B3%D0%BE%D1%80%D0%B8%D1%82%D0%BC%D1%8B_%D1%86%D0%B8%D1%84%D1%80%D0%BE%D0%B2%D0%BE%D0%B9_%D0%BE%D0%B1%D1%80%D0%B0%D0%B1%D0%BE%D1%82%D0%BA%D0%B8_%D1%81%D0%B8%D0%B3%D0%BD%D0%B0%D0%BB%D0%BE%D0%B2_%D0%9B%D0%B5%D0%BA%D1%86%D0%B8%D1%8F_06_21_03_20.ipynb\" target=\"_parent\"><img src=\"https://colab.research.google.com/assets/colab-badge.svg\" alt=\"Open In Colab\"/></a>"
      ]
    },
    {
      "cell_type": "markdown",
      "metadata": {
        "id": "BgyTX0wXhQT6",
        "colab_type": "text"
      },
      "source": [
        "# 13:10-14:40 \tБИСО-1,2-16 Методы и алгоритмы цифровой обработки сигналов\n",
        "### Практическое занятие в рамках раздела \"Методы цифровой обработки случайных последовательностей\".\n",
        "\n",
        "**Дата проведения занятия:** 21.03.2020. \n",
        "\n",
        "**Место/Форма проведения занятия:** Дистанционное обучение/Конференция Skype. Ссылка на видео-конференцию будет предоставлена непосредственно перед занятием по почте.\n",
        "\n",
        "**Цель:** Закрепление основных терминов и определений из теории СП.\n",
        "\n",
        "**Задание 1**. Сформировать последовательность в виде $x_n=\\left[\\sum_{m=1}^{12}\\psi_m\\right]-6$. Где $\\psi_m$-случайная равномерно распределенная переменная. \n",
        "Построить гистограмму. Сделать предположения о законе распределения. Пояснить характер распределения."
      ]
    },
    {
      "cell_type": "code",
      "metadata": {
        "id": "q7z73n-DHeFp",
        "colab_type": "code",
        "outputId": "af3a6266-4196-4662-841d-9f7f5c01cf4b",
        "colab": {
          "base_uri": "https://localhost:8080/",
          "height": 547
        }
      },
      "source": [
        "import numpy as np\n",
        "import matplotlib.pyplot as plt\n",
        "\n",
        "N     = 10000 \n",
        "\n",
        "psi   = np.random.rand(N,12)\n",
        "print(psi.shape)\n",
        "_ =plt.hist( psi[:,0],20 )\n",
        "\n",
        "\n",
        "x     = np.sum(psi,axis=1)\n",
        "print(x.shape)\n",
        "\n",
        "\n",
        "\n",
        "\n",
        "fig = plt.figure()\n",
        "_ =plt.hist( x,20 )\n",
        "plt.grid('true')\n",
        "#plt.plot(bin_edges,hist)\n",
        "#plt.grid('true')\n",
        "\n"
      ],
      "execution_count": 0,
      "outputs": [
        {
          "output_type": "stream",
          "text": [
            "(10000, 12)\n",
            "(10000,)\n"
          ],
          "name": "stdout"
        },
        {
          "output_type": "display_data",
          "data": {
            "image/png": "[encoded data removed]",
            "text/plain": [
              "<Figure size 432x288 with 1 Axes>"
            ]
          },
          "metadata": {
            "tags": []
          }
        },
        {
          "output_type": "display_data",
          "data": {
            "image/png": "[encoded data removed]",
            "text/plain": [
              "<Figure size 432x288 with 1 Axes>"
            ]
          },
          "metadata": {
            "tags": []
          }
        }
      ]
    },
    {
      "cell_type": "markdown",
      "metadata": {
        "id": "qkpAKXztqsBw",
        "colab_type": "text"
      },
      "source": [
        "Задание 2. Оценка взаимной корреляции и коэффициента корреляции\n",
        "\n",
        "*Корреляция*\n",
        "\n",
        "$r=\\frac{1}{N}\\sum_{n=1}^{N}x_n y_{n}$\n",
        "\n",
        "*Коэфициент корреляции*\n",
        "\n",
        "Если массивы $x$ и $y$ линейно связаны, то можно утверждать, что\n",
        "$y_n=c*x_n$\n",
        "Тогда, пользуясь методом наименьших квадратов\n",
        "\n",
        "$\\left[\\sum_{n=1}^{N} (y_n-cx_n)^2\\right] \\rightarrow min$\n",
        "\n",
        "$c = (x^Tx)^{-1}x^Ty=\\frac{\\sum_{n=1}^{N}x_n y_{n}}{\\sum_{n=1}^{N}x_n^2}$,-коэффициент корреляции $\\in -1\\cdots 1$\n",
        "\n",
        "Задание: сформировать две выборки для двух случайных гауссовых процессов так, чтобы коэффициент корреляции между ними составлял величину $0.1$\n",
        "\n"
      ]
    },
    {
      "cell_type": "code",
      "metadata": {
        "id": "ESMhLiowrQ1V",
        "colab_type": "code",
        "outputId": "25b5a165-8191-4ee0-a0c3-0d48b74b1eaf",
        "colab": {
          "base_uri": "https://localhost:8080/",
          "height": 85
        }
      },
      "source": [
        "import numpy as np\n",
        "N = 100000\n",
        "x = np.random.randn(N,1)\n",
        "y = np.random.randn(N,1) + x*0.1\n",
        "\n",
        "r = (x.transpose() @ y) / (x.transpose() @ x)\n",
        "r1 = (x.transpose() @ y) / x.size\n",
        "\n",
        "print(r1)\n",
        "\n",
        "from scipy import signal\n",
        "h = signal.firwin(15, 0.1)\n",
        "\n",
        "print(h)"
      ],
      "execution_count": 0,
      "outputs": [
        {
          "output_type": "stream",
          "text": [
            "[[0.10068409]]\n",
            "[0.00439411 0.00945819 0.02406611 0.04945214 0.0823258  0.11548173\n",
            " 0.14016995 0.14930392 0.14016995 0.11548173 0.0823258  0.04945214\n",
            " 0.02406611 0.00945819 0.00439411]\n"
          ],
          "name": "stdout"
        }
      ]
    },
    {
      "cell_type": "markdown",
      "metadata": {
        "id": "QVO6gGtox7JH",
        "colab_type": "text"
      },
      "source": [
        "Задание 3. Сформировать два случайных гауссовых процесса с дисперсиями $9$ и $36$. Сформировать два детерминированных процесса с амплитудами $3$ и $6$.\n",
        "Оценить дисперсию суммы случайных последовательностей. Расчитать дисперсию суммы детерминированных последовательностей. Сформулировать принцип расчета дисперсии суммы случайных процессов. "
      ]
    },
    {
      "cell_type": "code",
      "metadata": {
        "id": "K84bqOYZyDEP",
        "colab_type": "code",
        "outputId": "b3298258-b7bd-4629-b741-581bb8566dcc",
        "colab": {
          "base_uri": "https://localhost:8080/",
          "height": 136
        }
      },
      "source": [
        "x = np.random.randn(N,1)*3\n",
        "y = np.random.randn(N,1)*6\n",
        "\n",
        "a = np.ones((N,1))*3 \n",
        "b = np.ones((N,1))*6 \n",
        "\n",
        "\n",
        "print( x.transpose() @ x / N )\n",
        "print( y.transpose() @ y / N )\n",
        "\n",
        "print( a.transpose() @ a / N )\n",
        "print( b.transpose() @ b / N )\n",
        "\n",
        "print( (a+b).transpose() @ (a+b) / N )\n",
        "print( (3+6)*(3+6) )\n",
        "\n",
        "print( (x+y).transpose() @ (x+y) / N )"
      ],
      "execution_count": 0,
      "outputs": [
        {
          "output_type": "stream",
          "text": [
            "[[9.05435235]]\n",
            "[[35.92483021]]\n",
            "[[9.]]\n",
            "[[36.]]\n",
            "[[81.]]\n",
            "81\n",
            "[[44.92895301]]\n"
          ],
          "name": "stdout"
        }
      ]
    },
    {
      "cell_type": "markdown",
      "metadata": {
        "id": "MMjZmtFuI2OX",
        "colab_type": "text"
      },
      "source": [
        "**Задание 4**. Сформировать выборку случайного процесса в виде суммы постоянной детерминированной величины и случайного гауссового процесса. Получить оценку постоянной величины по выборке в виде среднего. Расчитать дисперсию ошибки оценки. "
      ]
    },
    {
      "cell_type": "markdown",
      "metadata": {
        "id": "GfAgr5mVJ0ki",
        "colab_type": "text"
      },
      "source": [
        "Задание 5. Сформировать выборку для векторного случайного процесса с заданной корреляционной матрицей $\\Sigma=\\begin{pmatrix}\n",
        "1 & 0.1 \\\\\n",
        "0.1 & 1 \\\\\n",
        "\\end{pmatrix}$."
      ]
    }
  ]
}